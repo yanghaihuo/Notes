{
 "cells": [
  {
   "cell_type": "code",
   "execution_count": 1,
   "metadata": {
    "execution": {
     "iopub.execute_input": "2020-09-23T14:16:15.416048Z",
     "iopub.status.busy": "2020-09-23T14:16:15.416048Z",
     "iopub.status.idle": "2020-09-23T14:16:15.772068Z",
     "shell.execute_reply": "2020-09-23T14:16:15.772068Z",
     "shell.execute_reply.started": "2020-09-23T14:16:15.416048Z"
    }
   },
   "outputs": [],
   "source": [
    "import pandas as pd\n",
    "import json"
   ]
  },
  {
   "cell_type": "code",
   "execution_count": 2,
   "metadata": {
    "execution": {
     "iopub.execute_input": "2020-09-23T14:16:15.774068Z",
     "iopub.status.busy": "2020-09-23T14:16:15.773068Z",
     "iopub.status.idle": "2020-09-23T14:16:15.809070Z",
     "shell.execute_reply": "2020-09-23T14:16:15.809070Z",
     "shell.execute_reply.started": "2020-09-23T14:16:15.774068Z"
    }
   },
   "outputs": [
    {
     "data": {
      "text/html": [
       "<div>\n",
       "<style scoped>\n",
       "    .dataframe tbody tr th:only-of-type {\n",
       "        vertical-align: middle;\n",
       "    }\n",
       "\n",
       "    .dataframe tbody tr th {\n",
       "        vertical-align: top;\n",
       "    }\n",
       "\n",
       "    .dataframe thead th {\n",
       "        text-align: right;\n",
       "    }\n",
       "</style>\n",
       "<table border=\"1\" class=\"dataframe\">\n",
       "  <thead>\n",
       "    <tr style=\"text-align: right;\">\n",
       "      <th></th>\n",
       "      <th>query</th>\n",
       "      <th>标注结果</th>\n",
       "    </tr>\n",
       "  </thead>\n",
       "  <tbody>\n",
       "    <tr>\n",
       "      <th>0</th>\n",
       "      <td>就有几年历史</td>\n",
       "      <td>{\"data\":[{\"start\":0,\"columnIndex\":0,\"end\":2,\"a...</td>\n",
       "    </tr>\n",
       "  </tbody>\n",
       "</table>\n",
       "</div>"
      ],
      "text/plain": [
       "    query                                               标注结果\n",
       "0  就有几年历史  {\"data\":[{\"start\":0,\"columnIndex\":0,\"end\":2,\"a..."
      ]
     },
     "execution_count": 2,
     "metadata": {},
     "output_type": "execute_result"
    }
   ],
   "source": [
    "df = pd.read_excel(r\"C:\\Users\\Think\\Documents\\WeChat Files\\wowangzhouming\\FileStorage\\File\\2020-09\\1.xlsx\",\n",
    "                   skiprows=1, skipfooter=12, usecols=[0, 1])\n",
    "df"
   ]
  },
  {
   "cell_type": "code",
   "execution_count": 3,
   "metadata": {
    "execution": {
     "iopub.execute_input": "2020-09-23T14:16:15.812070Z",
     "iopub.status.busy": "2020-09-23T14:16:15.812070Z",
     "iopub.status.idle": "2020-09-23T14:16:15.835072Z",
     "shell.execute_reply": "2020-09-23T14:16:15.835072Z",
     "shell.execute_reply.started": "2020-09-23T14:16:15.812070Z"
    }
   },
   "outputs": [
    {
     "data": {
      "text/html": [
       "<div>\n",
       "<style scoped>\n",
       "    .dataframe tbody tr th:only-of-type {\n",
       "        vertical-align: middle;\n",
       "    }\n",
       "\n",
       "    .dataframe tbody tr th {\n",
       "        vertical-align: top;\n",
       "    }\n",
       "\n",
       "    .dataframe thead th {\n",
       "        text-align: right;\n",
       "    }\n",
       "</style>\n",
       "<table border=\"1\" class=\"dataframe\">\n",
       "  <thead>\n",
       "    <tr style=\"text-align: right;\">\n",
       "      <th></th>\n",
       "      <th>query</th>\n",
       "      <th>start</th>\n",
       "      <th>columnIndex</th>\n",
       "      <th>end</th>\n",
       "      <th>annotateType</th>\n",
       "      <th>ner</th>\n",
       "      <th>realLabelValue</th>\n",
       "    </tr>\n",
       "  </thead>\n",
       "  <tbody>\n",
       "    <tr>\n",
       "      <th>0</th>\n",
       "      <td>就有几年历史</td>\n",
       "      <td>0</td>\n",
       "      <td>0</td>\n",
       "      <td>2</td>\n",
       "      <td>slot</td>\n",
       "      <td>就有</td>\n",
       "      <td>电话号码</td>\n",
       "    </tr>\n",
       "    <tr>\n",
       "      <th>1</th>\n",
       "      <td>就有几年历史</td>\n",
       "      <td>4</td>\n",
       "      <td>0</td>\n",
       "      <td>6</td>\n",
       "      <td>slot</td>\n",
       "      <td>历史</td>\n",
       "      <td>联系人</td>\n",
       "    </tr>\n",
       "  </tbody>\n",
       "</table>\n",
       "</div>"
      ],
      "text/plain": [
       "    query  start  columnIndex  end annotateType ner realLabelValue\n",
       "0  就有几年历史      0            0    2         slot  就有           电话号码\n",
       "1  就有几年历史      4            0    6         slot  历史            联系人"
      ]
     },
     "metadata": {},
     "output_type": "display_data"
    },
    {
     "data": {
      "text/html": [
       "<div>\n",
       "<style scoped>\n",
       "    .dataframe tbody tr th:only-of-type {\n",
       "        vertical-align: middle;\n",
       "    }\n",
       "\n",
       "    .dataframe tbody tr th {\n",
       "        vertical-align: top;\n",
       "    }\n",
       "\n",
       "    .dataframe thead th {\n",
       "        text-align: right;\n",
       "    }\n",
       "</style>\n",
       "<table border=\"1\" class=\"dataframe\">\n",
       "  <thead>\n",
       "    <tr style=\"text-align: right;\">\n",
       "      <th></th>\n",
       "      <th>query</th>\n",
       "      <th>ner1</th>\n",
       "      <th>ner2</th>\n",
       "      <th>realLabelValue1</th>\n",
       "      <th>realLabelValue2</th>\n",
       "    </tr>\n",
       "  </thead>\n",
       "  <tbody>\n",
       "    <tr>\n",
       "      <th>0</th>\n",
       "      <td>就有几年历史</td>\n",
       "      <td>就有</td>\n",
       "      <td>历史</td>\n",
       "      <td>电话号码</td>\n",
       "      <td>联系人</td>\n",
       "    </tr>\n",
       "  </tbody>\n",
       "</table>\n",
       "</div>"
      ],
      "text/plain": [
       "    query ner1 ner2 realLabelValue1 realLabelValue2\n",
       "0  就有几年历史   就有   历史            电话号码             联系人"
      ]
     },
     "metadata": {},
     "output_type": "display_data"
    }
   ],
   "source": [
    "result1 = []\n",
    "result2 = []\n",
    "for query, json_text in df.values:\n",
    "    tmp = json.loads(json_text)\n",
    "    postions = tmp['data']\n",
    "    lables = tmp['info'][0]['val']\n",
    "    tmp = {'query': query}\n",
    "    for i in range(len(postions)):\n",
    "        postion = postions[i]\n",
    "        lable = lables[i]\n",
    "        start = postion['start']\n",
    "        end = postion['end']\n",
    "        tmp[f'ner{i+1}'] = query[start:end]\n",
    "        result1.append([query, start, postion['columnIndex'], end,\n",
    "                        postion['annotateType'], query[start:end], lable['realLabelValue']])\n",
    "    for i, lable in enumerate(lables):\n",
    "        tmp[f'realLabelValue{i+1}'] = lable['realLabelValue']\n",
    "    result2.append(tmp)\n",
    "df1 = pd.DataFrame(result1, columns=['query', 'start', 'columnIndex', 'end', 'annotateType', 'ner', 'realLabelValue'])\n",
    "display(df1)\n",
    "df2 = pd.DataFrame(result2)\n",
    "display(df2)"
   ]
  },
  {
   "cell_type": "code",
   "execution_count": null,
   "metadata": {},
   "outputs": [],
   "source": []
  }
 ],
 "metadata": {
  "kernelspec": {
   "display_name": "Python 3",
   "language": "python",
   "name": "python3"
  },
  "language_info": {
   "codemirror_mode": {
    "name": "ipython",
    "version": 3
   },
   "file_extension": ".py",
   "mimetype": "text/x-python",
   "name": "python",
   "nbconvert_exporter": "python",
   "pygments_lexer": "ipython3",
   "version": "3.6.5"
  }
 },
 "nbformat": 4,
 "nbformat_minor": 4
}
