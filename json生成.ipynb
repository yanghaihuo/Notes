{
 "cells": [
  {
   "cell_type": "code",
   "execution_count": 3,
   "metadata": {
    "ExecuteTime": {
     "end_time": "2020-12-07T13:57:10.966226Z",
     "start_time": "2020-12-07T13:57:10.958226Z"
    }
   },
   "outputs": [
    {
     "data": {
      "text/html": [
       "<div>\n",
       "<style scoped>\n",
       "    .dataframe tbody tr th:only-of-type {\n",
       "        vertical-align: middle;\n",
       "    }\n",
       "\n",
       "    .dataframe tbody tr th {\n",
       "        vertical-align: top;\n",
       "    }\n",
       "\n",
       "    .dataframe thead th {\n",
       "        text-align: right;\n",
       "    }\n",
       "</style>\n",
       "<table border=\"1\" class=\"dataframe\">\n",
       "  <thead>\n",
       "    <tr style=\"text-align: right;\">\n",
       "      <th></th>\n",
       "      <th>query</th>\n",
       "      <th>skill</th>\n",
       "    </tr>\n",
       "  </thead>\n",
       "  <tbody>\n",
       "    <tr>\n",
       "      <th>0</th>\n",
       "      <td>明天</td>\n",
       "      <td>{\"data\": [], \"type\": \"txt\", \"info\": {\"val\": [{...</td>\n",
       "    </tr>\n",
       "    <tr>\n",
       "      <th>1</th>\n",
       "      <td>现在几点,吃什么？</td>\n",
       "      <td>{\"data\": [], \"type\": \"txt\", \"info\": {\"val\": [{...</td>\n",
       "    </tr>\n",
       "    <tr>\n",
       "      <th>2</th>\n",
       "      <td>今天天气不错我想吃东西，几点了</td>\n",
       "      <td>{\"data\": [], \"type\": \"txt\", \"info\": {\"val\": [{...</td>\n",
       "    </tr>\n",
       "    <tr>\n",
       "      <th>3</th>\n",
       "      <td>今天天气怎么样</td>\n",
       "      <td>{\"data\": [], \"type\": \"txt\", \"info\": {\"val\": [{...</td>\n",
       "    </tr>\n",
       "  </tbody>\n",
       "</table>\n",
       "</div>"
      ],
      "text/plain": [
       "             query                                              skill\n",
       "0               明天  {\"data\": [], \"type\": \"txt\", \"info\": {\"val\": [{...\n",
       "1        现在几点,吃什么？  {\"data\": [], \"type\": \"txt\", \"info\": {\"val\": [{...\n",
       "2  今天天气不错我想吃东西，几点了  {\"data\": [], \"type\": \"txt\", \"info\": {\"val\": [{...\n",
       "3          今天天气怎么样  {\"data\": [], \"type\": \"txt\", \"info\": {\"val\": [{..."
      ]
     },
     "execution_count": 3,
     "metadata": {},
     "output_type": "execute_result"
    }
   ],
   "source": [
    "from io import StringIO\n",
    "import pandas as pd\n",
    "import json\n",
    "\n",
    "\n",
    "df = pd.read_excel(r'C:\\Users\\25507\\Desktop\\test.xlsx')\n",
    "\n",
    "json_t = {\"data\": [], \"type\": \"txt\", \"info\": {\n",
    "    \"val\": [], \"type\": \"tag\"}}\n",
    "var_dic_list = json_t[\"info\"][\"val\"]\n",
    "result = []\n",
    "for skills in df.skill:\n",
    "    var_dic_list.clear()\n",
    "    for skill in skills.split(\",\"):\n",
    "        var_dic_list.append({\"realLabelValue\": skill})\n",
    "    result.append(json.dumps(json_t))\n",
    "df.skill = result\n",
    "df.to_excel(r'C:\\Users\\25507\\Desktop\\test1.xlsx')"
   ]
  }
 ],
 "metadata": {
  "kernelspec": {
   "display_name": "Python 3",
   "language": "python",
   "name": "python3"
  },
  "language_info": {
   "codemirror_mode": {
    "name": "ipython",
    "version": 3
   },
   "file_extension": ".py",
   "mimetype": "text/x-python",
   "name": "python",
   "nbconvert_exporter": "python",
   "pygments_lexer": "ipython3",
   "version": "3.8.3"
  },
  "toc": {
   "base_numbering": 1,
   "nav_menu": {},
   "number_sections": true,
   "sideBar": true,
   "skip_h1_title": false,
   "title_cell": "Table of Contents",
   "title_sidebar": "Contents",
   "toc_cell": false,
   "toc_position": {},
   "toc_section_display": true,
   "toc_window_display": false
  },
  "varInspector": {
   "cols": {
    "lenName": 16,
    "lenType": 16,
    "lenVar": 40
   },
   "kernels_config": {
    "python": {
     "delete_cmd_postfix": "",
     "delete_cmd_prefix": "del ",
     "library": "var_list.py",
     "varRefreshCmd": "print(var_dic_list())"
    },
    "r": {
     "delete_cmd_postfix": ") ",
     "delete_cmd_prefix": "rm(",
     "library": "var_list.r",
     "varRefreshCmd": "cat(var_dic_list()) "
    }
   },
   "types_to_exclude": [
    "module",
    "function",
    "builtin_function_or_method",
    "instance",
    "_Feature"
   ],
   "window_display": false
  }
 },
 "nbformat": 4,
 "nbformat_minor": 2
}
